{
  "nbformat": 4,
  "nbformat_minor": 0,
  "metadata": {
    "colab": {
      "provenance": [],
      "authorship_tag": "ABX9TyOsS2g9YGXAbqeuDrMt5R7a",
      "include_colab_link": true
    },
    "kernelspec": {
      "name": "python3",
      "display_name": "Python 3"
    },
    "language_info": {
      "name": "python"
    }
  },
  "cells": [
    {
      "cell_type": "markdown",
      "metadata": {
        "id": "view-in-github",
        "colab_type": "text"
      },
      "source": [
        "<a href=\"https://colab.research.google.com/github/SonyTKadavan/Nlp/blob/main/Textclassification.ipynb\" target=\"_parent\"><img src=\"https://colab.research.google.com/assets/colab-badge.svg\" alt=\"Open In Colab\"/></a>"
      ]
    },
    {
      "cell_type": "code",
      "metadata": {
        "colab": {
          "base_uri": "https://localhost:8080/"
        },
        "id": "hFsz_bYGU6jr",
        "outputId": "e4a99ec0-5458-4e4c-e8de-074888dfc836"
      },
      "source": [
        "# 1. Import Required Libraries\n",
        "import pandas as pd\n",
        "from sklearn.feature_extraction.text import CountVectorizer, TfidfVectorizer\n",
        "from sklearn.linear_model import LogisticRegression\n",
        "from sklearn.model_selection import train_test_split\n",
        "from sklearn.metrics import accuracy_score, classification_report\n",
        "\n",
        "# 2. Load Dataset\n",
        "text_data = pd.read_csv(\"/content/IMDB Dataset.csv\")  # Change path if needed\n",
        "\n",
        "# Check the data\n",
        "print(text_data.head())\n",
        "\n",
        "# 3. Extract Features and Labels\n",
        "X = text_data['review']\n",
        "y = text_data['sentiment'].map({'positive': 1, 'negative': 0})  # Convert to binary\n",
        "\n",
        "# 4. Train/Test Split (for both BoW and TF-IDF)\n",
        "X_train_raw, X_test_raw, y_train, y_test = train_test_split(X, y, test_size=0.2, random_state=42)\n",
        "\n",
        "# 5. Bag-of-Words Vectorization\n",
        "bow_vectorizer = CountVectorizer(stop_words='english', max_features=5000)\n",
        "X_train_bow = bow_vectorizer.fit_transform(X_train_raw)\n",
        "X_test_bow = bow_vectorizer.transform(X_test_raw)\n",
        "\n",
        "# 6. TF-IDF Vectorization\n",
        "tfidf_vectorizer = TfidfVectorizer(stop_words='english', max_features=5000)\n",
        "X_train_tfidf = tfidf_vectorizer.fit_transform(X_train_raw)\n",
        "X_test_tfidf = tfidf_vectorizer.transform(X_test_raw)\n",
        "\n",
        "# 7. Train & Evaluate Model on Bag-of-Words\n",
        "clf_bow = LogisticRegression(max_iter=1000)\n",
        "clf_bow.fit(X_train_bow, y_train)\n",
        "y_pred_bow = clf_bow.predict(X_test_bow)\n",
        "accuracy_bow = accuracy_score(y_test, y_pred_bow)\n",
        "print(\"\\nBag-of-Words Accuracy:\", accuracy_bow)\n",
        "print(\"BoW Classification Report:\\n\", classification_report(y_test, y_pred_bow))\n",
        "\n",
        "# 8. Train & Evaluate Model on TF-IDF\n",
        "clf_tfidf = LogisticRegression(max_iter=1000)\n",
        "clf_tfidf.fit(X_train_tfidf, y_train)\n",
        "y_pred_tfidf = clf_tfidf.predict(X_test_tfidf)\n",
        "accuracy_tfidf = accuracy_score(y_test, y_pred_tfidf)\n",
        "print(\"\\nTF-IDF Accuracy:\", accuracy_tfidf)\n",
        "print(\"TF-IDF Classification Report:\\n\", classification_report(y_test, y_pred_tfidf))\n",
        "\n",
        "# 9. Performance Comparison\n",
        "print(\"\\n--- Comparison Summary ---\")\n",
        "print(f\"Bag-of-Words Accuracy : {accuracy_bow:.4f}\")\n",
        "print(f\"TF-IDF Accuracy       : {accuracy_tfidf:.4f}\")"
      ],
      "execution_count": null,
      "outputs": [
        {
          "output_type": "stream",
          "name": "stdout",
          "text": [
            "                                              review sentiment\n",
            "0  One of the other reviewers has mentioned that ...  positive\n",
            "1  A wonderful little production. <br /><br />The...  positive\n",
            "2  I thought this was a wonderful way to spend ti...  positive\n",
            "3  Basically there's a family where a little boy ...  negative\n",
            "4  Petter Mattei's \"Love in the Time of Money\" is...  positive\n",
            "\n",
            "Bag-of-Words Accuracy: 0.87\n",
            "BoW Classification Report:\n",
            "               precision    recall  f1-score   support\n",
            "\n",
            "           0       0.88      0.86      0.87      4961\n",
            "           1       0.87      0.88      0.87      5039\n",
            "\n",
            "    accuracy                           0.87     10000\n",
            "   macro avg       0.87      0.87      0.87     10000\n",
            "weighted avg       0.87      0.87      0.87     10000\n",
            "\n",
            "\n",
            "TF-IDF Accuracy: 0.8889\n",
            "TF-IDF Classification Report:\n",
            "               precision    recall  f1-score   support\n",
            "\n",
            "           0       0.90      0.87      0.89      4961\n",
            "           1       0.88      0.90      0.89      5039\n",
            "\n",
            "    accuracy                           0.89     10000\n",
            "   macro avg       0.89      0.89      0.89     10000\n",
            "weighted avg       0.89      0.89      0.89     10000\n",
            "\n",
            "\n",
            "--- Comparison Summary ---\n",
            "Bag-of-Words Accuracy : 0.8700\n",
            "TF-IDF Accuracy       : 0.8889\n"
          ]
        }
      ]
    }
  ]
}