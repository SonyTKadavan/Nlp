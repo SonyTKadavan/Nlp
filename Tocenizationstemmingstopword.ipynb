{
  "nbformat": 4,
  "nbformat_minor": 0,
  "metadata": {
    "colab": {
      "provenance": [],
      "authorship_tag": "ABX9TyPVuScdIyU5bgmlhBaQ/TVb",
      "include_colab_link": true
    },
    "kernelspec": {
      "name": "python3",
      "display_name": "Python 3"
    },
    "language_info": {
      "name": "python"
    }
  },
  "cells": [
    {
      "cell_type": "markdown",
      "metadata": {
        "id": "view-in-github",
        "colab_type": "text"
      },
      "source": [
        "<a href=\"https://colab.research.google.com/github/SonyTKadavan/Nlp/blob/main/Tocenizationstemmingstopword.ipynb\" target=\"_parent\"><img src=\"https://colab.research.google.com/assets/colab-badge.svg\" alt=\"Open In Colab\"/></a>"
      ]
    },
    {
      "cell_type": "code",
      "execution_count": 16,
      "metadata": {
        "id": "sGUKrehf-D4-",
        "colab": {
          "base_uri": "https://localhost:8080/",
          "height": 70
        },
        "outputId": "cb3c4278-de85-451e-f44f-6c023d1c67e9"
      },
      "outputs": [
        {
          "output_type": "stream",
          "name": "stderr",
          "text": [
            "[nltk_data] Downloading package stopwords to /root/nltk_data...\n",
            "[nltk_data]   Package stopwords is already up-to-date!\n"
          ]
        },
        {
          "output_type": "execute_result",
          "data": {
            "text/plain": [
              "'This example sentence showing stop word removal.'"
            ],
            "application/vnd.google.colaboratory.intrinsic+json": {
              "type": "string"
            }
          },
          "metadata": {},
          "execution_count": 16
        }
      ],
      "source": [
        "# prompt: give me the code for stop word removal\n",
        "\n",
        "import nltk\n",
        "nltk.download('stopwords')\n",
        "from nltk.corpus import stopwords\n",
        "\n",
        "stop_words = set(stopwords.words('english'))\n",
        "\n",
        "def remove_stopwords(text):\n",
        "  word_tokens = text.split()\n",
        "  filtered_text = [word for word in word_tokens if word not in stop_words]\n",
        "  return ' '.join(filtered_text)\n",
        "\n",
        "# Example usage:\n",
        "text = \"This is an example sentence showing stop word removal.\"\n",
        "filtered_text = remove_stopwords(text)\n",
        "filtered_text\n"
      ]
    },
    {
      "cell_type": "code",
      "source": [
        "import nltk\n",
        "from nltk.tokenize import word_tokenize, sent_tokenize\n",
        "\n",
        "# Download required data (only the first time)\n",
        "nltk.download('punkt')\n",
        "nltk.download('punkt_tab') # Download punkt_tab\n",
        "\n",
        "# Sample text\n",
        "text = \"Hello! My name is Sony. I am learning Natural Language Processing.\"\n",
        "\n",
        "# Sentence Tokenization\n",
        "sentences = sent_tokenize(text)\n",
        "print(\"Sentence Tokenization:\")\n",
        "print(sentences)\n",
        "\n",
        "# Word Tokenization\n",
        "words = word_tokenize(text)\n",
        "print(\"\\nWord Tokenization:\")\n",
        "print(words)"
      ],
      "metadata": {
        "colab": {
          "base_uri": "https://localhost:8080/"
        },
        "id": "OjIhnI3rAsRP",
        "outputId": "ced174e4-9718-4c8a-ded1-1cac9803a49a"
      },
      "execution_count": null,
      "outputs": [
        {
          "output_type": "stream",
          "name": "stderr",
          "text": [
            "[nltk_data] Downloading package punkt to /root/nltk_data...\n",
            "[nltk_data]   Package punkt is already up-to-date!\n",
            "[nltk_data] Downloading package punkt_tab to /root/nltk_data...\n"
          ]
        },
        {
          "output_type": "stream",
          "name": "stdout",
          "text": [
            "Sentence Tokenization:\n",
            "['Hello!', 'My name is Sony.', 'I am learning Natural Language Processing.']\n",
            "\n",
            "Word Tokenization:\n",
            "['Hello', '!', 'My', 'name', 'is', 'Sony', '.', 'I', 'am', 'learning', 'Natural', 'Language', 'Processing', '.']\n"
          ]
        },
        {
          "output_type": "stream",
          "name": "stderr",
          "text": [
            "[nltk_data]   Unzipping tokenizers/punkt_tab.zip.\n"
          ]
        }
      ]
    },
    {
      "cell_type": "code",
      "source": [
        "import spacy\n",
        "\n",
        "# Load the English language model (download if not already present)\n",
        "# You might need to run this in your terminal or a separate cell first:\n",
        "# !python -m spacy download en_core_web_sm\n",
        "nlp = spacy.load(\"en_core_web_sm\")\n",
        "\n",
        "# Sample text\n",
        "text = \"Hello! My name is Sony. I am learning Natural Language Processing.\"\n",
        "\n",
        "# Process the text with the spaCy model\n",
        "doc = nlp(text)\n",
        "\n",
        "# Sentence Tokenization\n",
        "sentences = [sent.text for sent in doc.sents]\n",
        "print(\"Sentence Tokenization:\")\n",
        "print(sentences)\n",
        "\n",
        "# Word Tokenization\n",
        "# SpaCy provides tokens, which are more than just words.\n",
        "# We can extract the text of each token.\n",
        "words = [token.text for token in doc]\n",
        "print(\"\\nWord Tokenization:\")\n",
        "print(words)"
      ],
      "metadata": {
        "colab": {
          "base_uri": "https://localhost:8080/"
        },
        "id": "FMjOm3hAC2FR",
        "outputId": "22b833d8-9877-453a-ed48-01404e4854b9"
      },
      "execution_count": null,
      "outputs": [
        {
          "output_type": "stream",
          "name": "stdout",
          "text": [
            "Sentence Tokenization:\n",
            "['Hello!', 'My name is Sony.', 'I am learning Natural Language Processing.']\n",
            "\n",
            "Word Tokenization:\n",
            "['Hello', '!', 'My', 'name', 'is', 'Sony', '.', 'I', 'am', 'learning', 'Natural', 'Language', 'Processing', '.']\n"
          ]
        }
      ]
    },
    {
      "cell_type": "code",
      "source": [
        "import nltk\n",
        "from nltk.tokenize import word_tokenize, sent_tokenize\n",
        "from nltk.stem import PorterStemmer # Import the stemmer\n",
        "\n",
        "# Download required data (only the first time)\n",
        "nltk.download('punkt')\n",
        "nltk.download('punkt_tab')\n",
        "\n",
        "# Sample text\n",
        "text = \"Hello! My name is Sony. I am learning Natural Language Processing.\"\n",
        "\n",
        "# Sentence Tokenization\n",
        "sentences = sent_tokenize(text)\n",
        "print(\"Sentence Tokenization:\")\n",
        "print(sentences)\n",
        "\n",
        "# Word Tokenization\n",
        "words = word_tokenize(text)\n",
        "print(\"\\nWord Tokenization:\")\n",
        "print(words)\n",
        "\n",
        "# Stemming\n",
        "stemmer = PorterStemmer() # Create a PorterStemmer object\n",
        "stemmed_words = [stemmer.stem(word) for word in words] # Apply stemming to each word\n",
        "print(\"\\nStemmed Words:\")\n",
        "print(stemmed_words)"
      ],
      "metadata": {
        "colab": {
          "base_uri": "https://localhost:8080/"
        },
        "id": "_aKQnB2aIG7P",
        "outputId": "9fc9a663-e4cb-46a5-990b-be58742c0911"
      },
      "execution_count": null,
      "outputs": [
        {
          "output_type": "stream",
          "name": "stdout",
          "text": [
            "Sentence Tokenization:\n",
            "['Hello!', 'My name is Sony.', 'I am learning Natural Language Processing.']\n",
            "\n",
            "Word Tokenization:\n",
            "['Hello', '!', 'My', 'name', 'is', 'Sony', '.', 'I', 'am', 'learning', 'Natural', 'Language', 'Processing', '.']\n",
            "\n",
            "Stemmed Words:\n",
            "['hello', '!', 'my', 'name', 'is', 'soni', '.', 'i', 'am', 'learn', 'natur', 'languag', 'process', '.']\n"
          ]
        },
        {
          "output_type": "stream",
          "name": "stderr",
          "text": [
            "[nltk_data] Downloading package punkt to /root/nltk_data...\n",
            "[nltk_data]   Package punkt is already up-to-date!\n",
            "[nltk_data] Downloading package punkt_tab to /root/nltk_data...\n",
            "[nltk_data]   Package punkt_tab is already up-to-date!\n"
          ]
        }
      ]
    }
  ]
}